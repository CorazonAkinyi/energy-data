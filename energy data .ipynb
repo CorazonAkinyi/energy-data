{
 "cells": [
  {
   "cell_type": "code",
   "execution_count": 80,
   "id": "cc07d0c1",
   "metadata": {},
   "outputs": [],
   "source": [
    "#importing packages\n",
    "import numpy as np\n",
    "import pandas as pd\n"
   ]
  },
  {
   "cell_type": "code",
   "execution_count": 81,
   "id": "d1d1c480",
   "metadata": {},
   "outputs": [
    {
     "data": {
      "text/html": [
       "<div>\n",
       "<style scoped>\n",
       "    .dataframe tbody tr th:only-of-type {\n",
       "        vertical-align: middle;\n",
       "    }\n",
       "\n",
       "    .dataframe tbody tr th {\n",
       "        vertical-align: top;\n",
       "    }\n",
       "\n",
       "    .dataframe thead th {\n",
       "        text-align: right;\n",
       "    }\n",
       "</style>\n",
       "<table border=\"1\" class=\"dataframe\">\n",
       "  <thead>\n",
       "    <tr style=\"text-align: right;\">\n",
       "      <th></th>\n",
       "      <th>date</th>\n",
       "      <th>Appliances</th>\n",
       "      <th>lights</th>\n",
       "      <th>T1</th>\n",
       "      <th>RH_1</th>\n",
       "      <th>T2</th>\n",
       "      <th>RH_2</th>\n",
       "      <th>T3</th>\n",
       "      <th>RH_3</th>\n",
       "      <th>T4</th>\n",
       "      <th>...</th>\n",
       "      <th>T9</th>\n",
       "      <th>RH_9</th>\n",
       "      <th>T_out</th>\n",
       "      <th>Press_mm_hg</th>\n",
       "      <th>RH_out</th>\n",
       "      <th>Windspeed</th>\n",
       "      <th>Visibility</th>\n",
       "      <th>Tdewpoint</th>\n",
       "      <th>rv1</th>\n",
       "      <th>rv2</th>\n",
       "    </tr>\n",
       "  </thead>\n",
       "  <tbody>\n",
       "    <tr>\n",
       "      <th>0</th>\n",
       "      <td>2016-01-11 17:00:00</td>\n",
       "      <td>60</td>\n",
       "      <td>30</td>\n",
       "      <td>19.89</td>\n",
       "      <td>47.596667</td>\n",
       "      <td>19.2</td>\n",
       "      <td>44.790000</td>\n",
       "      <td>19.79</td>\n",
       "      <td>44.730000</td>\n",
       "      <td>19.000000</td>\n",
       "      <td>...</td>\n",
       "      <td>17.033333</td>\n",
       "      <td>45.53</td>\n",
       "      <td>6.600000</td>\n",
       "      <td>733.5</td>\n",
       "      <td>92.0</td>\n",
       "      <td>7.000000</td>\n",
       "      <td>63.000000</td>\n",
       "      <td>5.3</td>\n",
       "      <td>13.275433</td>\n",
       "      <td>13.275433</td>\n",
       "    </tr>\n",
       "    <tr>\n",
       "      <th>1</th>\n",
       "      <td>2016-01-11 17:10:00</td>\n",
       "      <td>60</td>\n",
       "      <td>30</td>\n",
       "      <td>19.89</td>\n",
       "      <td>46.693333</td>\n",
       "      <td>19.2</td>\n",
       "      <td>44.722500</td>\n",
       "      <td>19.79</td>\n",
       "      <td>44.790000</td>\n",
       "      <td>19.000000</td>\n",
       "      <td>...</td>\n",
       "      <td>17.066667</td>\n",
       "      <td>45.56</td>\n",
       "      <td>6.483333</td>\n",
       "      <td>733.6</td>\n",
       "      <td>92.0</td>\n",
       "      <td>6.666667</td>\n",
       "      <td>59.166667</td>\n",
       "      <td>5.2</td>\n",
       "      <td>18.606195</td>\n",
       "      <td>18.606195</td>\n",
       "    </tr>\n",
       "    <tr>\n",
       "      <th>2</th>\n",
       "      <td>2016-01-11 17:20:00</td>\n",
       "      <td>50</td>\n",
       "      <td>30</td>\n",
       "      <td>19.89</td>\n",
       "      <td>46.300000</td>\n",
       "      <td>19.2</td>\n",
       "      <td>44.626667</td>\n",
       "      <td>19.79</td>\n",
       "      <td>44.933333</td>\n",
       "      <td>18.926667</td>\n",
       "      <td>...</td>\n",
       "      <td>17.000000</td>\n",
       "      <td>45.50</td>\n",
       "      <td>6.366667</td>\n",
       "      <td>733.7</td>\n",
       "      <td>92.0</td>\n",
       "      <td>6.333333</td>\n",
       "      <td>55.333333</td>\n",
       "      <td>5.1</td>\n",
       "      <td>28.642668</td>\n",
       "      <td>28.642668</td>\n",
       "    </tr>\n",
       "    <tr>\n",
       "      <th>3</th>\n",
       "      <td>2016-01-11 17:30:00</td>\n",
       "      <td>50</td>\n",
       "      <td>40</td>\n",
       "      <td>19.89</td>\n",
       "      <td>46.066667</td>\n",
       "      <td>19.2</td>\n",
       "      <td>44.590000</td>\n",
       "      <td>19.79</td>\n",
       "      <td>45.000000</td>\n",
       "      <td>18.890000</td>\n",
       "      <td>...</td>\n",
       "      <td>17.000000</td>\n",
       "      <td>45.40</td>\n",
       "      <td>6.250000</td>\n",
       "      <td>733.8</td>\n",
       "      <td>92.0</td>\n",
       "      <td>6.000000</td>\n",
       "      <td>51.500000</td>\n",
       "      <td>5.0</td>\n",
       "      <td>45.410389</td>\n",
       "      <td>45.410389</td>\n",
       "    </tr>\n",
       "    <tr>\n",
       "      <th>4</th>\n",
       "      <td>2016-01-11 17:40:00</td>\n",
       "      <td>60</td>\n",
       "      <td>40</td>\n",
       "      <td>19.89</td>\n",
       "      <td>46.333333</td>\n",
       "      <td>19.2</td>\n",
       "      <td>44.530000</td>\n",
       "      <td>19.79</td>\n",
       "      <td>45.000000</td>\n",
       "      <td>18.890000</td>\n",
       "      <td>...</td>\n",
       "      <td>17.000000</td>\n",
       "      <td>45.40</td>\n",
       "      <td>6.133333</td>\n",
       "      <td>733.9</td>\n",
       "      <td>92.0</td>\n",
       "      <td>5.666667</td>\n",
       "      <td>47.666667</td>\n",
       "      <td>4.9</td>\n",
       "      <td>10.084097</td>\n",
       "      <td>10.084097</td>\n",
       "    </tr>\n",
       "  </tbody>\n",
       "</table>\n",
       "<p>5 rows × 29 columns</p>\n",
       "</div>"
      ],
      "text/plain": [
       "                  date  Appliances  lights     T1       RH_1    T2       RH_2  \\\n",
       "0  2016-01-11 17:00:00          60      30  19.89  47.596667  19.2  44.790000   \n",
       "1  2016-01-11 17:10:00          60      30  19.89  46.693333  19.2  44.722500   \n",
       "2  2016-01-11 17:20:00          50      30  19.89  46.300000  19.2  44.626667   \n",
       "3  2016-01-11 17:30:00          50      40  19.89  46.066667  19.2  44.590000   \n",
       "4  2016-01-11 17:40:00          60      40  19.89  46.333333  19.2  44.530000   \n",
       "\n",
       "      T3       RH_3         T4  ...         T9   RH_9     T_out  Press_mm_hg  \\\n",
       "0  19.79  44.730000  19.000000  ...  17.033333  45.53  6.600000        733.5   \n",
       "1  19.79  44.790000  19.000000  ...  17.066667  45.56  6.483333        733.6   \n",
       "2  19.79  44.933333  18.926667  ...  17.000000  45.50  6.366667        733.7   \n",
       "3  19.79  45.000000  18.890000  ...  17.000000  45.40  6.250000        733.8   \n",
       "4  19.79  45.000000  18.890000  ...  17.000000  45.40  6.133333        733.9   \n",
       "\n",
       "   RH_out  Windspeed  Visibility  Tdewpoint        rv1        rv2  \n",
       "0    92.0   7.000000   63.000000        5.3  13.275433  13.275433  \n",
       "1    92.0   6.666667   59.166667        5.2  18.606195  18.606195  \n",
       "2    92.0   6.333333   55.333333        5.1  28.642668  28.642668  \n",
       "3    92.0   6.000000   51.500000        5.0  45.410389  45.410389  \n",
       "4    92.0   5.666667   47.666667        4.9  10.084097  10.084097  \n",
       "\n",
       "[5 rows x 29 columns]"
      ]
     },
     "execution_count": 81,
     "metadata": {},
     "output_type": "execute_result"
    }
   ],
   "source": [
    "#import data\n",
    "data = pd.read_csv('energydata_complete.csv')\n",
    "data.head()"
   ]
  },
  {
   "cell_type": "code",
   "execution_count": 82,
   "id": "b9e152a9",
   "metadata": {},
   "outputs": [
    {
     "data": {
      "text/plain": [
       "(19735, 29)"
      ]
     },
     "execution_count": 82,
     "metadata": {},
     "output_type": "execute_result"
    }
   ],
   "source": [
    "data.shape"
   ]
  },
  {
   "cell_type": "code",
   "execution_count": 83,
   "id": "4805c580",
   "metadata": {},
   "outputs": [
    {
     "data": {
      "text/plain": [
       "date           0\n",
       "Appliances     0\n",
       "lights         0\n",
       "T1             0\n",
       "RH_1           0\n",
       "T2             0\n",
       "RH_2           0\n",
       "T3             0\n",
       "RH_3           0\n",
       "T4             0\n",
       "RH_4           0\n",
       "T5             0\n",
       "RH_5           0\n",
       "T6             0\n",
       "RH_6           0\n",
       "T7             0\n",
       "RH_7           0\n",
       "T8             0\n",
       "RH_8           0\n",
       "T9             0\n",
       "RH_9           0\n",
       "T_out          0\n",
       "Press_mm_hg    0\n",
       "RH_out         0\n",
       "Windspeed      0\n",
       "Visibility     0\n",
       "Tdewpoint      0\n",
       "rv1            0\n",
       "rv2            0\n",
       "dtype: int64"
      ]
     },
     "execution_count": 83,
     "metadata": {},
     "output_type": "execute_result"
    }
   ],
   "source": [
    "#checking for nulls\n",
    "data.isnull().sum()"
   ]
  },
  {
   "cell_type": "code",
   "execution_count": 93,
   "id": "b3cfeb27",
   "metadata": {},
   "outputs": [],
   "source": [
    "#call temperature inside the livingroom T2 as X and temperature outside as T6\n",
    "X = data['T2']\n",
    "y = data['T6']"
   ]
  },
  {
   "cell_type": "code",
   "execution_count": 94,
   "id": "8202d78a",
   "metadata": {},
   "outputs": [],
   "source": [
    "from sklearn.linear_model import LinearRegression"
   ]
  },
  {
   "cell_type": "code",
   "execution_count": 95,
   "id": "0d84201f",
   "metadata": {},
   "outputs": [
    {
     "data": {
      "text/plain": [
       "0        19.200000\n",
       "1        19.200000\n",
       "2        19.200000\n",
       "3        19.200000\n",
       "4        19.200000\n",
       "           ...    \n",
       "19730    25.890000\n",
       "19731    25.754000\n",
       "19732    25.628571\n",
       "19733    25.414000\n",
       "19734    25.264286\n",
       "Name: T2, Length: 19735, dtype: float64"
      ]
     },
     "execution_count": 95,
     "metadata": {},
     "output_type": "execute_result"
    }
   ],
   "source": [
    "X"
   ]
  },
  {
   "cell_type": "code",
   "execution_count": 101,
   "id": "c90392a4",
   "metadata": {},
   "outputs": [
    {
     "data": {
      "text/plain": [
       "LinearRegression()"
      ]
     },
     "execution_count": 101,
     "metadata": {},
     "output_type": "execute_result"
    }
   ],
   "source": [
    "#Instantiate model and fit X and y\n",
    "lr = LinearRegression()\n",
    "lr.fit(np.array(X).reshape(-1,1),y)"
   ]
  },
  {
   "cell_type": "code",
   "execution_count": 102,
   "id": "5cbd269c",
   "metadata": {},
   "outputs": [],
   "source": [
    "#Import metrics to measure performance of the linear regression\n",
    "from sklearn.metrics import r2_score, mean_absolute_error, mean_squared_error"
   ]
  },
  {
   "cell_type": "code",
   "execution_count": 103,
   "id": "e9f91fa3",
   "metadata": {},
   "outputs": [],
   "source": [
    "#making prediction \n",
    "y_pred = lr.predict(np.array(X).reshape(-1,1))"
   ]
  },
  {
   "cell_type": "code",
   "execution_count": 45,
   "id": "a3570124",
   "metadata": {},
   "outputs": [
    {
     "data": {
      "text/plain": [
       "0.4421227162483321"
      ]
     },
     "execution_count": 45,
     "metadata": {},
     "output_type": "execute_result"
    }
   ],
   "source": [
    "#r2 score of predicted vs actual value\n",
    "r2_score(y_pred, y)"
   ]
  },
  {
   "cell_type": "code",
   "execution_count": 104,
   "id": "7f60a344",
   "metadata": {},
   "outputs": [],
   "source": [
    "#Drop the  date and light columns\n",
    "data.drop(['date', 'lights'], axis=1, inplace=True)"
   ]
  },
  {
   "cell_type": "code",
   "execution_count": 107,
   "id": "16a06c8d",
   "metadata": {},
   "outputs": [
    {
     "data": {
      "text/plain": [
       "(19735, 27)"
      ]
     },
     "execution_count": 107,
     "metadata": {},
     "output_type": "execute_result"
    }
   ],
   "source": [
    "data.shape"
   ]
  },
  {
   "cell_type": "code",
   "execution_count": 108,
   "id": "857132b0",
   "metadata": {},
   "outputs": [],
   "source": [
    "#Import minmax scaler and train test split from the respective sklearn modules\n",
    "from sklearn.preprocessing import MinMaxScaler\n",
    "from sklearn.model_selection  import train_test_split"
   ]
  },
  {
   "cell_type": "code",
   "execution_count": 109,
   "id": "49300f5c",
   "metadata": {},
   "outputs": [],
   "source": [
    "min_ma = MinMaxScaler()\n",
    "\n",
    "data_scaled = min_ma.fit_transform(data)\n",
    "data_scaled = pd.DataFrame(data_scaled, columns=data.columns)"
   ]
  },
  {
   "cell_type": "code",
   "execution_count": 110,
   "id": "aa566680",
   "metadata": {},
   "outputs": [
    {
     "data": {
      "text/html": [
       "<div>\n",
       "<style scoped>\n",
       "    .dataframe tbody tr th:only-of-type {\n",
       "        vertical-align: middle;\n",
       "    }\n",
       "\n",
       "    .dataframe tbody tr th {\n",
       "        vertical-align: top;\n",
       "    }\n",
       "\n",
       "    .dataframe thead th {\n",
       "        text-align: right;\n",
       "    }\n",
       "</style>\n",
       "<table border=\"1\" class=\"dataframe\">\n",
       "  <thead>\n",
       "    <tr style=\"text-align: right;\">\n",
       "      <th></th>\n",
       "      <th>Appliances</th>\n",
       "      <th>T1</th>\n",
       "      <th>RH_1</th>\n",
       "      <th>T2</th>\n",
       "      <th>RH_2</th>\n",
       "      <th>T3</th>\n",
       "      <th>RH_3</th>\n",
       "      <th>T4</th>\n",
       "      <th>RH_4</th>\n",
       "      <th>T5</th>\n",
       "      <th>...</th>\n",
       "      <th>T9</th>\n",
       "      <th>RH_9</th>\n",
       "      <th>T_out</th>\n",
       "      <th>Press_mm_hg</th>\n",
       "      <th>RH_out</th>\n",
       "      <th>Windspeed</th>\n",
       "      <th>Visibility</th>\n",
       "      <th>Tdewpoint</th>\n",
       "      <th>rv1</th>\n",
       "      <th>rv2</th>\n",
       "    </tr>\n",
       "  </thead>\n",
       "  <tbody>\n",
       "    <tr>\n",
       "      <th>0</th>\n",
       "      <td>0.046729</td>\n",
       "      <td>0.327350</td>\n",
       "      <td>0.566187</td>\n",
       "      <td>0.225345</td>\n",
       "      <td>0.684038</td>\n",
       "      <td>0.215188</td>\n",
       "      <td>0.746066</td>\n",
       "      <td>0.351351</td>\n",
       "      <td>0.764262</td>\n",
       "      <td>0.175506</td>\n",
       "      <td>...</td>\n",
       "      <td>0.223032</td>\n",
       "      <td>0.677290</td>\n",
       "      <td>0.372990</td>\n",
       "      <td>0.097674</td>\n",
       "      <td>0.894737</td>\n",
       "      <td>0.500000</td>\n",
       "      <td>0.953846</td>\n",
       "      <td>0.538462</td>\n",
       "      <td>0.265449</td>\n",
       "      <td>0.265449</td>\n",
       "    </tr>\n",
       "    <tr>\n",
       "      <th>1</th>\n",
       "      <td>0.046729</td>\n",
       "      <td>0.327350</td>\n",
       "      <td>0.541326</td>\n",
       "      <td>0.225345</td>\n",
       "      <td>0.682140</td>\n",
       "      <td>0.215188</td>\n",
       "      <td>0.748871</td>\n",
       "      <td>0.351351</td>\n",
       "      <td>0.782437</td>\n",
       "      <td>0.175506</td>\n",
       "      <td>...</td>\n",
       "      <td>0.226500</td>\n",
       "      <td>0.678532</td>\n",
       "      <td>0.369239</td>\n",
       "      <td>0.100000</td>\n",
       "      <td>0.894737</td>\n",
       "      <td>0.476190</td>\n",
       "      <td>0.894872</td>\n",
       "      <td>0.533937</td>\n",
       "      <td>0.372083</td>\n",
       "      <td>0.372083</td>\n",
       "    </tr>\n",
       "    <tr>\n",
       "      <th>2</th>\n",
       "      <td>0.037383</td>\n",
       "      <td>0.327350</td>\n",
       "      <td>0.530502</td>\n",
       "      <td>0.225345</td>\n",
       "      <td>0.679445</td>\n",
       "      <td>0.215188</td>\n",
       "      <td>0.755569</td>\n",
       "      <td>0.344745</td>\n",
       "      <td>0.778062</td>\n",
       "      <td>0.175506</td>\n",
       "      <td>...</td>\n",
       "      <td>0.219563</td>\n",
       "      <td>0.676049</td>\n",
       "      <td>0.365488</td>\n",
       "      <td>0.102326</td>\n",
       "      <td>0.894737</td>\n",
       "      <td>0.452381</td>\n",
       "      <td>0.835897</td>\n",
       "      <td>0.529412</td>\n",
       "      <td>0.572848</td>\n",
       "      <td>0.572848</td>\n",
       "    </tr>\n",
       "    <tr>\n",
       "      <th>3</th>\n",
       "      <td>0.037383</td>\n",
       "      <td>0.327350</td>\n",
       "      <td>0.524080</td>\n",
       "      <td>0.225345</td>\n",
       "      <td>0.678414</td>\n",
       "      <td>0.215188</td>\n",
       "      <td>0.758685</td>\n",
       "      <td>0.341441</td>\n",
       "      <td>0.770949</td>\n",
       "      <td>0.175506</td>\n",
       "      <td>...</td>\n",
       "      <td>0.219563</td>\n",
       "      <td>0.671909</td>\n",
       "      <td>0.361736</td>\n",
       "      <td>0.104651</td>\n",
       "      <td>0.894737</td>\n",
       "      <td>0.428571</td>\n",
       "      <td>0.776923</td>\n",
       "      <td>0.524887</td>\n",
       "      <td>0.908261</td>\n",
       "      <td>0.908261</td>\n",
       "    </tr>\n",
       "    <tr>\n",
       "      <th>4</th>\n",
       "      <td>0.046729</td>\n",
       "      <td>0.327350</td>\n",
       "      <td>0.531419</td>\n",
       "      <td>0.225345</td>\n",
       "      <td>0.676727</td>\n",
       "      <td>0.215188</td>\n",
       "      <td>0.758685</td>\n",
       "      <td>0.341441</td>\n",
       "      <td>0.762697</td>\n",
       "      <td>0.178691</td>\n",
       "      <td>...</td>\n",
       "      <td>0.219563</td>\n",
       "      <td>0.671909</td>\n",
       "      <td>0.357985</td>\n",
       "      <td>0.106977</td>\n",
       "      <td>0.894737</td>\n",
       "      <td>0.404762</td>\n",
       "      <td>0.717949</td>\n",
       "      <td>0.520362</td>\n",
       "      <td>0.201611</td>\n",
       "      <td>0.201611</td>\n",
       "    </tr>\n",
       "    <tr>\n",
       "      <th>...</th>\n",
       "      <td>...</td>\n",
       "      <td>...</td>\n",
       "      <td>...</td>\n",
       "      <td>...</td>\n",
       "      <td>...</td>\n",
       "      <td>...</td>\n",
       "      <td>...</td>\n",
       "      <td>...</td>\n",
       "      <td>...</td>\n",
       "      <td>...</td>\n",
       "      <td>...</td>\n",
       "      <td>...</td>\n",
       "      <td>...</td>\n",
       "      <td>...</td>\n",
       "      <td>...</td>\n",
       "      <td>...</td>\n",
       "      <td>...</td>\n",
       "      <td>...</td>\n",
       "      <td>...</td>\n",
       "      <td>...</td>\n",
       "      <td>...</td>\n",
       "    </tr>\n",
       "    <tr>\n",
       "      <th>19730</th>\n",
       "      <td>0.084112</td>\n",
       "      <td>0.926786</td>\n",
       "      <td>0.537657</td>\n",
       "      <td>0.711655</td>\n",
       "      <td>0.606309</td>\n",
       "      <td>0.830841</td>\n",
       "      <td>0.579374</td>\n",
       "      <td>0.864865</td>\n",
       "      <td>0.765258</td>\n",
       "      <td>0.752031</td>\n",
       "      <td>...</td>\n",
       "      <td>0.864724</td>\n",
       "      <td>0.729443</td>\n",
       "      <td>0.891747</td>\n",
       "      <td>0.602326</td>\n",
       "      <td>0.416667</td>\n",
       "      <td>0.238095</td>\n",
       "      <td>0.348718</td>\n",
       "      <td>0.901961</td>\n",
       "      <td>0.861981</td>\n",
       "      <td>0.861981</td>\n",
       "    </tr>\n",
       "    <tr>\n",
       "      <th>19731</th>\n",
       "      <td>0.074766</td>\n",
       "      <td>0.919747</td>\n",
       "      <td>0.536006</td>\n",
       "      <td>0.701769</td>\n",
       "      <td>0.607836</td>\n",
       "      <td>0.825302</td>\n",
       "      <td>0.582178</td>\n",
       "      <td>0.864865</td>\n",
       "      <td>0.765258</td>\n",
       "      <td>0.754897</td>\n",
       "      <td>...</td>\n",
       "      <td>0.864724</td>\n",
       "      <td>0.729443</td>\n",
       "      <td>0.887460</td>\n",
       "      <td>0.602326</td>\n",
       "      <td>0.421053</td>\n",
       "      <td>0.250000</td>\n",
       "      <td>0.361538</td>\n",
       "      <td>0.900452</td>\n",
       "      <td>0.985726</td>\n",
       "      <td>0.985726</td>\n",
       "    </tr>\n",
       "    <tr>\n",
       "      <th>19732</th>\n",
       "      <td>0.242991</td>\n",
       "      <td>0.919747</td>\n",
       "      <td>0.538666</td>\n",
       "      <td>0.692651</td>\n",
       "      <td>0.627198</td>\n",
       "      <td>0.818378</td>\n",
       "      <td>0.603988</td>\n",
       "      <td>0.864865</td>\n",
       "      <td>0.771233</td>\n",
       "      <td>0.754897</td>\n",
       "      <td>...</td>\n",
       "      <td>0.864724</td>\n",
       "      <td>0.729443</td>\n",
       "      <td>0.883173</td>\n",
       "      <td>0.602326</td>\n",
       "      <td>0.425439</td>\n",
       "      <td>0.261905</td>\n",
       "      <td>0.374359</td>\n",
       "      <td>0.898944</td>\n",
       "      <td>0.583979</td>\n",
       "      <td>0.583979</td>\n",
       "    </tr>\n",
       "    <tr>\n",
       "      <th>19733</th>\n",
       "      <td>0.383178</td>\n",
       "      <td>0.919747</td>\n",
       "      <td>0.549491</td>\n",
       "      <td>0.677054</td>\n",
       "      <td>0.634717</td>\n",
       "      <td>0.805085</td>\n",
       "      <td>0.585294</td>\n",
       "      <td>0.864865</td>\n",
       "      <td>0.773794</td>\n",
       "      <td>0.752031</td>\n",
       "      <td>...</td>\n",
       "      <td>0.864724</td>\n",
       "      <td>0.730581</td>\n",
       "      <td>0.878885</td>\n",
       "      <td>0.602326</td>\n",
       "      <td>0.429825</td>\n",
       "      <td>0.273810</td>\n",
       "      <td>0.387179</td>\n",
       "      <td>0.897436</td>\n",
       "      <td>0.126371</td>\n",
       "      <td>0.126371</td>\n",
       "    </tr>\n",
       "    <tr>\n",
       "      <th>19734</th>\n",
       "      <td>0.392523</td>\n",
       "      <td>0.919747</td>\n",
       "      <td>0.538758</td>\n",
       "      <td>0.666171</td>\n",
       "      <td>0.632902</td>\n",
       "      <td>0.799546</td>\n",
       "      <td>0.579062</td>\n",
       "      <td>0.864865</td>\n",
       "      <td>0.781192</td>\n",
       "      <td>0.752031</td>\n",
       "      <td>...</td>\n",
       "      <td>0.864724</td>\n",
       "      <td>0.731719</td>\n",
       "      <td>0.874598</td>\n",
       "      <td>0.602326</td>\n",
       "      <td>0.434211</td>\n",
       "      <td>0.285714</td>\n",
       "      <td>0.400000</td>\n",
       "      <td>0.895928</td>\n",
       "      <td>0.682391</td>\n",
       "      <td>0.682391</td>\n",
       "    </tr>\n",
       "  </tbody>\n",
       "</table>\n",
       "<p>19735 rows × 27 columns</p>\n",
       "</div>"
      ],
      "text/plain": [
       "       Appliances        T1      RH_1        T2      RH_2        T3      RH_3  \\\n",
       "0        0.046729  0.327350  0.566187  0.225345  0.684038  0.215188  0.746066   \n",
       "1        0.046729  0.327350  0.541326  0.225345  0.682140  0.215188  0.748871   \n",
       "2        0.037383  0.327350  0.530502  0.225345  0.679445  0.215188  0.755569   \n",
       "3        0.037383  0.327350  0.524080  0.225345  0.678414  0.215188  0.758685   \n",
       "4        0.046729  0.327350  0.531419  0.225345  0.676727  0.215188  0.758685   \n",
       "...           ...       ...       ...       ...       ...       ...       ...   \n",
       "19730    0.084112  0.926786  0.537657  0.711655  0.606309  0.830841  0.579374   \n",
       "19731    0.074766  0.919747  0.536006  0.701769  0.607836  0.825302  0.582178   \n",
       "19732    0.242991  0.919747  0.538666  0.692651  0.627198  0.818378  0.603988   \n",
       "19733    0.383178  0.919747  0.549491  0.677054  0.634717  0.805085  0.585294   \n",
       "19734    0.392523  0.919747  0.538758  0.666171  0.632902  0.799546  0.579062   \n",
       "\n",
       "             T4      RH_4        T5  ...        T9      RH_9     T_out  \\\n",
       "0      0.351351  0.764262  0.175506  ...  0.223032  0.677290  0.372990   \n",
       "1      0.351351  0.782437  0.175506  ...  0.226500  0.678532  0.369239   \n",
       "2      0.344745  0.778062  0.175506  ...  0.219563  0.676049  0.365488   \n",
       "3      0.341441  0.770949  0.175506  ...  0.219563  0.671909  0.361736   \n",
       "4      0.341441  0.762697  0.178691  ...  0.219563  0.671909  0.357985   \n",
       "...         ...       ...       ...  ...       ...       ...       ...   \n",
       "19730  0.864865  0.765258  0.752031  ...  0.864724  0.729443  0.891747   \n",
       "19731  0.864865  0.765258  0.754897  ...  0.864724  0.729443  0.887460   \n",
       "19732  0.864865  0.771233  0.754897  ...  0.864724  0.729443  0.883173   \n",
       "19733  0.864865  0.773794  0.752031  ...  0.864724  0.730581  0.878885   \n",
       "19734  0.864865  0.781192  0.752031  ...  0.864724  0.731719  0.874598   \n",
       "\n",
       "       Press_mm_hg    RH_out  Windspeed  Visibility  Tdewpoint       rv1  \\\n",
       "0         0.097674  0.894737   0.500000    0.953846   0.538462  0.265449   \n",
       "1         0.100000  0.894737   0.476190    0.894872   0.533937  0.372083   \n",
       "2         0.102326  0.894737   0.452381    0.835897   0.529412  0.572848   \n",
       "3         0.104651  0.894737   0.428571    0.776923   0.524887  0.908261   \n",
       "4         0.106977  0.894737   0.404762    0.717949   0.520362  0.201611   \n",
       "...            ...       ...        ...         ...        ...       ...   \n",
       "19730     0.602326  0.416667   0.238095    0.348718   0.901961  0.861981   \n",
       "19731     0.602326  0.421053   0.250000    0.361538   0.900452  0.985726   \n",
       "19732     0.602326  0.425439   0.261905    0.374359   0.898944  0.583979   \n",
       "19733     0.602326  0.429825   0.273810    0.387179   0.897436  0.126371   \n",
       "19734     0.602326  0.434211   0.285714    0.400000   0.895928  0.682391   \n",
       "\n",
       "            rv2  \n",
       "0      0.265449  \n",
       "1      0.372083  \n",
       "2      0.572848  \n",
       "3      0.908261  \n",
       "4      0.201611  \n",
       "...         ...  \n",
       "19730  0.861981  \n",
       "19731  0.985726  \n",
       "19732  0.583979  \n",
       "19733  0.126371  \n",
       "19734  0.682391  \n",
       "\n",
       "[19735 rows x 27 columns]"
      ]
     },
     "execution_count": 110,
     "metadata": {},
     "output_type": "execute_result"
    }
   ],
   "source": [
    "data_scaled"
   ]
  },
  {
   "cell_type": "code",
   "execution_count": 111,
   "id": "9ef4a7a2",
   "metadata": {},
   "outputs": [],
   "source": [
    "#Define our dependent - y and independent variables - X\n",
    "y = data_scaled['Appliances']\n",
    "X = data_scaled.drop('Appliances', axis = 1)"
   ]
  },
  {
   "cell_type": "code",
   "execution_count": 112,
   "id": "9cee3739",
   "metadata": {},
   "outputs": [],
   "source": [
    "#split our dataset into train and test sets in the ratio of 30 to 70%\n",
    "X_train, X_test, y_train, y_test = train_test_split(X_scaled, y, test_size=0.3, random_state=42)"
   ]
  },
  {
   "cell_type": "code",
   "execution_count": 113,
   "id": "dbb640a7",
   "metadata": {},
   "outputs": [
    {
     "data": {
      "text/plain": [
       "LinearRegression()"
      ]
     },
     "execution_count": 113,
     "metadata": {},
     "output_type": "execute_result"
    }
   ],
   "source": [
    "#fit the linear regression model onto the train set\n",
    "lr.fit(X_train, y_train)"
   ]
  },
  {
   "cell_type": "code",
   "execution_count": 114,
   "id": "2a8d9814",
   "metadata": {},
   "outputs": [],
   "source": [
    "#make prediction of the dependent variable using the model above\n",
    "y_pred = lr.predict(X_test)"
   ]
  },
  {
   "cell_type": "code",
   "execution_count": 115,
   "id": "f2a96c03",
   "metadata": {},
   "outputs": [
    {
     "data": {
      "text/plain": [
       "0.050133623977429397"
      ]
     },
     "execution_count": 115,
     "metadata": {},
     "output_type": "execute_result"
    }
   ],
   "source": [
    "#calculating the mean absolute errror of the predicted value vs the actual\n",
    "mean_absolute_error(y_pred, y_test)"
   ]
  },
  {
   "cell_type": "code",
   "execution_count": 116,
   "id": "818151bd",
   "metadata": {},
   "outputs": [
    {
     "data": {
      "text/plain": [
       "0.007658778867195367"
      ]
     },
     "execution_count": 116,
     "metadata": {},
     "output_type": "execute_result"
    }
   ],
   "source": [
    "#calculating the mean squared errror of the predicted value vs the actual\n",
    "mean_squared_error(y_pred, y_test)"
   ]
  },
  {
   "cell_type": "code",
   "execution_count": 117,
   "id": "a23fd6fb",
   "metadata": {},
   "outputs": [
    {
     "data": {
      "text/plain": [
       "0.0875144494766171"
      ]
     },
     "execution_count": 117,
     "metadata": {},
     "output_type": "execute_result"
    }
   ],
   "source": [
    "#Get square root of the mean squared error\n",
    "np.sqrt(mean_squared_error(y_pred, y_test))"
   ]
  },
  {
   "cell_type": "code",
   "execution_count": 119,
   "id": "c06d978c",
   "metadata": {},
   "outputs": [
    {
     "data": {
      "text/plain": [
       "0.14890246319303535"
      ]
     },
     "execution_count": 119,
     "metadata": {},
     "output_type": "execute_result"
    }
   ],
   "source": [
    "#calculating the coefficient of determination of the predicted value vs the actual\n",
    "r2_score(y_test, y_pred)"
   ]
  },
  {
   "cell_type": "code",
   "execution_count": 120,
   "id": "a4ef8435",
   "metadata": {},
   "outputs": [
    {
     "data": {
      "text/plain": [
       "array([-0.00328105,  0.5535466 , -0.23617792, -0.45669795,  0.29062714,\n",
       "        0.09604827,  0.028981  ,  0.02638578, -0.01565684,  0.01600579,\n",
       "        0.23642491,  0.03804865,  0.01031878, -0.04461364,  0.10199505,\n",
       "       -0.15759548, -0.18994077, -0.03980032, -0.32185967,  0.00683933,\n",
       "       -0.07767065,  0.02918313,  0.01230661,  0.11775773,  0.0007701 ,\n",
       "        0.0007701 ])"
      ]
     },
     "execution_count": 120,
     "metadata": {},
     "output_type": "execute_result"
    }
   ],
   "source": [
    "#the coefficients of the linear model gives us the weight of each variable in contribution towards the overall model\n",
    "lr.coef_"
   ]
  },
  {
   "cell_type": "code",
   "execution_count": 125,
   "id": "c463c02f",
   "metadata": {},
   "outputs": [
    {
     "data": {
      "text/plain": [
       "array([0.0007701 , 0.0007701 , 0.00328105, 0.00683933, 0.01031878,\n",
       "       0.01230661, 0.01565684, 0.01600579, 0.02638578, 0.028981  ,\n",
       "       0.02918313, 0.03804865, 0.03980032, 0.04461364, 0.07767065,\n",
       "       0.09604827, 0.10199505, 0.11775773, 0.15759548, 0.18994077,\n",
       "       0.23617792, 0.23642491, 0.29062714, 0.32185967, 0.45669795,\n",
       "       0.5535466 ])"
      ]
     },
     "execution_count": 125,
     "metadata": {},
     "output_type": "execute_result"
    }
   ],
   "source": [
    "#get their absolutes\n",
    "np.sort(abs(lr.coef_))"
   ]
  },
  {
   "cell_type": "code",
   "execution_count": 126,
   "id": "677ff86e",
   "metadata": {},
   "outputs": [
    {
     "data": {
      "text/plain": [
       "Index(['Appliances', 'T1', 'RH_1', 'T2', 'RH_2', 'T3', 'RH_3', 'T4', 'RH_4',\n",
       "       'T5', 'RH_5', 'T6', 'RH_6', 'T7', 'RH_7', 'T8', 'RH_8', 'T9', 'RH_9',\n",
       "       'T_out', 'Press_mm_hg', 'RH_out', 'Windspeed', 'Visibility',\n",
       "       'Tdewpoint', 'rv1', 'rv2'],\n",
       "      dtype='object')"
      ]
     },
     "execution_count": 126,
     "metadata": {},
     "output_type": "execute_result"
    }
   ],
   "source": [
    "#call the respective column names to compare with the weights\n",
    "data_scaled.columns"
   ]
  },
  {
   "cell_type": "code",
   "execution_count": 144,
   "id": "c418df93",
   "metadata": {},
   "outputs": [
    {
     "data": {
      "text/plain": [
       "0.08753385704628001"
      ]
     },
     "execution_count": 144,
     "metadata": {},
     "output_type": "execute_result"
    }
   ],
   "source": [
    "#Now we train and fit a ridge regression model with an alpha of 0.4\n",
    "from sklearn.linear_model import Ridge, Lasso\n",
    "\n",
    "ridge = Ridge(alpha=0.4)\n",
    "\n",
    "ridge.fit(X_train, y_train)\n",
    "\n",
    "y_pred_rid = ridge.predict(X_test)\n",
    "\n",
    "mean_squared_error(y_pred_rid, y_test)\n",
    "\n",
    "#finding the root of the mean sqaured error for the ridge model to compare with the linear regression model \n",
    "np.sqrt(mean_squared_error(y_pred_rid, y_test))"
   ]
  },
  {
   "cell_type": "code",
   "execution_count": 148,
   "id": "17bf7dbf",
   "metadata": {},
   "outputs": [
    {
     "data": {
      "text/plain": [
       "array([ 0.        ,  0.01787993,  0.        , -0.        ,  0.        ,\n",
       "        0.        , -0.        ,  0.        , -0.        ,  0.        ,\n",
       "        0.        , -0.        , -0.        , -0.        ,  0.        ,\n",
       "       -0.00011004, -0.        , -0.        ,  0.        , -0.        ,\n",
       "       -0.04955749,  0.00291176,  0.        ,  0.        , -0.        ,\n",
       "       -0.        ])"
      ]
     },
     "execution_count": 148,
     "metadata": {},
     "output_type": "execute_result"
    }
   ],
   "source": [
    "#fitting a lasso model of alpha 0.001\n",
    "las = Lasso(alpha=0.001)\n",
    "\n",
    "las.fit(X_train, y_train)\n",
    "\n",
    "#check how many of its coeffie=cients are non-zero\n",
    "las.coef_"
   ]
  },
  {
   "cell_type": "code",
   "execution_count": 149,
   "id": "5c2875fe",
   "metadata": {},
   "outputs": [
    {
     "data": {
      "text/plain": [
       "0.09358170467245137"
      ]
     },
     "execution_count": 149,
     "metadata": {},
     "output_type": "execute_result"
    }
   ],
   "source": [
    "#to get the RMSE of the lasso model\n",
    "#first make a prediction\n",
    "y_pred_las = las.predict(X_test)\n",
    "\n",
    "np.sqrt(mean_squared_error(y_test, y_pred_las))"
   ]
  },
  {
   "cell_type": "code",
   "execution_count": null,
   "id": "4ad094fc",
   "metadata": {},
   "outputs": [],
   "source": []
  }
 ],
 "metadata": {
  "kernelspec": {
   "display_name": "Python 3 (ipykernel)",
   "language": "python",
   "name": "python3"
  },
  "language_info": {
   "codemirror_mode": {
    "name": "ipython",
    "version": 3
   },
   "file_extension": ".py",
   "mimetype": "text/x-python",
   "name": "python",
   "nbconvert_exporter": "python",
   "pygments_lexer": "ipython3",
   "version": "3.9.12"
  }
 },
 "nbformat": 4,
 "nbformat_minor": 5
}
